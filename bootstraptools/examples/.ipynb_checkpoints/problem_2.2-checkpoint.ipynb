{
 "cells": [
  {
   "cell_type": "code",
   "execution_count": 1,
   "id": "1c46c36a-d6bd-4036-b445-ae12952942d2",
   "metadata": {},
   "outputs": [],
   "source": [
    "import numpy as np\n",
    "import pandas as pd\n",
    "import matplotlib.pyplot as plt\n",
    "%matplotlib inline\n",
    "import bootstraptools as btools\n",
    "from functools import partial"
   ]
  },
  {
   "cell_type": "code",
   "execution_count": 3,
   "id": "502225ff-02db-42dc-a6c5-d456b4d9a362",
   "metadata": {},
   "outputs": [
    {
     "data": {
      "text/html": [
       "<div>\n",
       "<style scoped>\n",
       "    .dataframe tbody tr th:only-of-type {\n",
       "        vertical-align: middle;\n",
       "    }\n",
       "\n",
       "    .dataframe tbody tr th {\n",
       "        vertical-align: top;\n",
       "    }\n",
       "\n",
       "    .dataframe thead th {\n",
       "        text-align: right;\n",
       "    }\n",
       "</style>\n",
       "<table border=\"1\" class=\"dataframe\">\n",
       "  <thead>\n",
       "    <tr style=\"text-align: right;\">\n",
       "      <th></th>\n",
       "      <th>group</th>\n",
       "      <th>data</th>\n",
       "    </tr>\n",
       "  </thead>\n",
       "  <tbody>\n",
       "    <tr>\n",
       "      <th>0</th>\n",
       "      <td>T</td>\n",
       "      <td>94</td>\n",
       "    </tr>\n",
       "    <tr>\n",
       "      <th>1</th>\n",
       "      <td>T</td>\n",
       "      <td>197</td>\n",
       "    </tr>\n",
       "    <tr>\n",
       "      <th>2</th>\n",
       "      <td>T</td>\n",
       "      <td>16</td>\n",
       "    </tr>\n",
       "    <tr>\n",
       "      <th>3</th>\n",
       "      <td>T</td>\n",
       "      <td>38</td>\n",
       "    </tr>\n",
       "    <tr>\n",
       "      <th>4</th>\n",
       "      <td>T</td>\n",
       "      <td>99</td>\n",
       "    </tr>\n",
       "  </tbody>\n",
       "</table>\n",
       "</div>"
      ],
      "text/plain": [
       "  group  data\n",
       "0     T    94\n",
       "1     T   197\n",
       "2     T    16\n",
       "3     T    38\n",
       "4     T    99"
      ]
     },
     "execution_count": 3,
     "metadata": {},
     "output_type": "execute_result"
    }
   ],
   "source": [
    "data = pd.read_csv('../data/table_2.1.csv')\n",
    "data.head()"
   ]
  },
  {
   "cell_type": "code",
   "execution_count": 4,
   "id": "9b135b73-6b4a-4bef-8616-d3a2d008267a",
   "metadata": {},
   "outputs": [],
   "source": [
    "labels = data.group.values.astype(str)\n",
    "values = data.data.values.astype(float)\n",
    "C = values[labels=='C']\n",
    "T = values[labels=='T']"
   ]
  },
  {
   "cell_type": "code",
   "execution_count": 33,
   "id": "de6d6c7d-41f7-4a08-b73d-a30b7f0280e4",
   "metadata": {},
   "outputs": [],
   "source": [
    "def repeat(a, r):\n",
    "    ar = np.repeat(a, r)\n",
    "    np.random.shuffle(ar)\n",
    "    return ar"
   ]
  },
  {
   "cell_type": "code",
   "execution_count": 34,
   "id": "44940c42-f7b2-4a20-933b-beead409bf96",
   "metadata": {},
   "outputs": [
    {
     "name": "stderr",
     "output_type": "stream",
     "text": [
      "Bootstrapping: 100%|████████████████████|(55688.68it/s)\n"
     ]
    }
   ],
   "source": [
    "stderr = btools.bootstrap_stderr(T)"
   ]
  },
  {
   "cell_type": "code",
   "execution_count": 37,
   "id": "b6c64d3e-68a7-44fc-a1d3-f74f6ca5157e",
   "metadata": {},
   "outputs": [
    {
     "name": "stderr",
     "output_type": "stream",
     "text": [
      "Bootstrapping: 100%|████████████████████|(65611.86it/s)\n"
     ]
    },
    {
     "name": "stdout",
     "output_type": "stream",
     "text": [
      "3.029964781405705 3.1622776601683795\n"
     ]
    },
    {
     "name": "stderr",
     "output_type": "stream",
     "text": [
      "Bootstrapping: 100%|████████████████████|(43301.41it/s)\n"
     ]
    },
    {
     "name": "stdout",
     "output_type": "stream",
     "text": [
      "10.29073401840051 10.0\n"
     ]
    },
    {
     "name": "stderr",
     "output_type": "stream",
     "text": [
      "Bootstrapping: 100%|████████████████████|(31139.50it/s)\n"
     ]
    },
    {
     "name": "stdout",
     "output_type": "stream",
     "text": [
      "14.033092764967385 14.142135623730951\n"
     ]
    },
    {
     "name": "stderr",
     "output_type": "stream",
     "text": [
      "Bootstrapping: 100%|████████████████████|(19259.80it/s)"
     ]
    },
    {
     "name": "stdout",
     "output_type": "stream",
     "text": [
      "19.33184293840032 20.0\n"
     ]
    },
    {
     "name": "stderr",
     "output_type": "stream",
     "text": [
      "\n"
     ]
    }
   ],
   "source": [
    "for R in [10, 100, 200, 400]:\n",
    "    stderrR = btools.bootstrap_stderr(repeat(T, R))\n",
    "    ratio = stderr / stderrR\n",
    "    sqrt = R**0.5\n",
    "    print(ratio, sqrt)"
   ]
  },
  {
   "cell_type": "markdown",
   "id": "3987cf0b-6b00-4736-9222-c902eeeb0854",
   "metadata": {},
   "source": [
    "Decreases as $1/\\sqrt{n}$"
   ]
  },
  {
   "cell_type": "code",
   "execution_count": null,
   "id": "b4332d3d-f9c0-4abd-9034-69790b7f303a",
   "metadata": {},
   "outputs": [],
   "source": []
  }
 ],
 "metadata": {
  "kernelspec": {
   "display_name": "py3",
   "language": "python",
   "name": "py3"
  },
  "language_info": {
   "codemirror_mode": {
    "name": "ipython",
    "version": 3
   },
   "file_extension": ".py",
   "mimetype": "text/x-python",
   "name": "python",
   "nbconvert_exporter": "python",
   "pygments_lexer": "ipython3",
   "version": "3.10.6"
  }
 },
 "nbformat": 4,
 "nbformat_minor": 5
}
