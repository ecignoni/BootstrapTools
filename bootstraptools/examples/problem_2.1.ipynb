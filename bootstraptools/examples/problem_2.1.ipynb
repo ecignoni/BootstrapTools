{
 "cells": [
  {
   "cell_type": "code",
   "execution_count": 3,
   "id": "b8778707-8159-45d3-8eee-9f8ef4be8c85",
   "metadata": {},
   "outputs": [],
   "source": [
    "import numpy as np\n",
    "import pandas as pd\n",
    "import matplotlib.pyplot as plt\n",
    "%matplotlib inline\n",
    "import bootstraptools as btools\n",
    "from functools import partial"
   ]
  },
  {
   "cell_type": "code",
   "execution_count": 6,
   "id": "251ed729-bf54-4ac9-9299-4b03781eded4",
   "metadata": {},
   "outputs": [
    {
     "data": {
      "text/html": [
       "<div>\n",
       "<style scoped>\n",
       "    .dataframe tbody tr th:only-of-type {\n",
       "        vertical-align: middle;\n",
       "    }\n",
       "\n",
       "    .dataframe tbody tr th {\n",
       "        vertical-align: top;\n",
       "    }\n",
       "\n",
       "    .dataframe thead th {\n",
       "        text-align: right;\n",
       "    }\n",
       "</style>\n",
       "<table border=\"1\" class=\"dataframe\">\n",
       "  <thead>\n",
       "    <tr style=\"text-align: right;\">\n",
       "      <th></th>\n",
       "      <th>group</th>\n",
       "      <th>data</th>\n",
       "    </tr>\n",
       "  </thead>\n",
       "  <tbody>\n",
       "    <tr>\n",
       "      <th>0</th>\n",
       "      <td>T</td>\n",
       "      <td>94</td>\n",
       "    </tr>\n",
       "    <tr>\n",
       "      <th>1</th>\n",
       "      <td>T</td>\n",
       "      <td>197</td>\n",
       "    </tr>\n",
       "    <tr>\n",
       "      <th>2</th>\n",
       "      <td>T</td>\n",
       "      <td>16</td>\n",
       "    </tr>\n",
       "    <tr>\n",
       "      <th>3</th>\n",
       "      <td>T</td>\n",
       "      <td>38</td>\n",
       "    </tr>\n",
       "    <tr>\n",
       "      <th>4</th>\n",
       "      <td>T</td>\n",
       "      <td>99</td>\n",
       "    </tr>\n",
       "  </tbody>\n",
       "</table>\n",
       "</div>"
      ],
      "text/plain": [
       "  group  data\n",
       "0     T    94\n",
       "1     T   197\n",
       "2     T    16\n",
       "3     T    38\n",
       "4     T    99"
      ]
     },
     "execution_count": 6,
     "metadata": {},
     "output_type": "execute_result"
    }
   ],
   "source": [
    "data = pd.read_csv('../data/table_2.1.csv')\n",
    "data.head()"
   ]
  },
  {
   "cell_type": "code",
   "execution_count": 7,
   "id": "2803d913-3b9c-4965-85e5-c1d27b9bdf26",
   "metadata": {},
   "outputs": [],
   "source": [
    "labels = data.group.values.astype(str)\n",
    "values = data.data.values.astype(float)\n",
    "values7 = values/7"
   ]
  },
  {
   "cell_type": "code",
   "execution_count": 19,
   "id": "c654fba9-f344-44ab-9749-ce012dc18ed2",
   "metadata": {},
   "outputs": [
    {
     "name": "stderr",
     "output_type": "stream",
     "text": [
      "Bootstrapping: 100%|████████████████████|(64700.95it/s)\n",
      "Bootstrapping: 100%|████████████████████|(38110.63it/s)\n"
     ]
    }
   ],
   "source": [
    "stderr = btools.bootstrap_stderr(values, stat_fn=np.mean)\n",
    "stderr7 = btools.bootstrap_stderr(values7, stat_fn=np.mean)"
   ]
  },
  {
   "cell_type": "code",
   "execution_count": 20,
   "id": "f22a5bd2-d73b-40de-a0a8-06a65a87d3e1",
   "metadata": {},
   "outputs": [
    {
     "data": {
      "text/plain": [
       "6.9040753961203825"
      ]
     },
     "execution_count": 20,
     "metadata": {},
     "output_type": "execute_result"
    }
   ],
   "source": [
    "stderr/stderr7"
   ]
  },
  {
   "cell_type": "code",
   "execution_count": 22,
   "id": "25742883-18e5-46ad-864b-4af62bb9177b",
   "metadata": {},
   "outputs": [
    {
     "data": {
      "text/plain": [
       "30.63492063492064"
      ]
     },
     "execution_count": 22,
     "metadata": {},
     "output_type": "execute_result"
    }
   ],
   "source": [
    "def stat_fn(x, y):\n",
    "    return np.mean(x) - np.mean(y)\n",
    "\n",
    "C = values[labels=='C']\n",
    "T = values[labels=='T']\n",
    "\n",
    "stat_fn(T, C)"
   ]
  },
  {
   "cell_type": "code",
   "execution_count": 29,
   "id": "c2146ba1-b4ee-41ee-91f2-87afddc7c4f2",
   "metadata": {},
   "outputs": [
    {
     "data": {
      "text/plain": [
       "1.1561376980554463"
      ]
     },
     "execution_count": 29,
     "metadata": {},
     "output_type": "execute_result"
    }
   ],
   "source": [
    "stat_fn(T, C) / btools.bootstrap_n_stderr(T, C, stat_fn=stat_fn, progbar=False)"
   ]
  },
  {
   "cell_type": "code",
   "execution_count": 30,
   "id": "b0e046ab-74f2-4159-8dc0-ede89f7b4087",
   "metadata": {},
   "outputs": [
    {
     "data": {
      "text/plain": [
       "1.1565544099249088"
      ]
     },
     "execution_count": 30,
     "metadata": {},
     "output_type": "execute_result"
    }
   ],
   "source": [
    "stat_fn(T/7., C/7.) / btools.bootstrap_n_stderr(T/7., C/7., stat_fn=stat_fn, progbar=False)"
   ]
  },
  {
   "cell_type": "markdown",
   "id": "a3e938be-f8b0-49b9-bd78-9b908d5abbb0",
   "metadata": {},
   "source": [
    "Obvious, as $se(\\bar{x}-\\bar{y}) = \\sqrt{se(\\bar{x})^2 + se(\\bar{y})^2}$ means that it will be divided by 7 as the mean difference"
   ]
  },
  {
   "cell_type": "code",
   "execution_count": null,
   "id": "374594ab-435f-47e0-bee3-4d5f8f0e76ec",
   "metadata": {},
   "outputs": [],
   "source": []
  }
 ],
 "metadata": {
  "kernelspec": {
   "display_name": "py3",
   "language": "python",
   "name": "py3"
  },
  "language_info": {
   "codemirror_mode": {
    "name": "ipython",
    "version": 3
   },
   "file_extension": ".py",
   "mimetype": "text/x-python",
   "name": "python",
   "nbconvert_exporter": "python",
   "pygments_lexer": "ipython3",
   "version": "3.10.6"
  }
 },
 "nbformat": 4,
 "nbformat_minor": 5
}
